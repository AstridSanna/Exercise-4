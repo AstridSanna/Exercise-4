{
 "cells": [
  {
   "cell_type": "markdown",
   "metadata": {
    "deletable": false,
    "editable": false,
    "nbgrader": {
     "cell_type": "markdown",
     "checksum": "7845d2cb6df0f61d3dc4f04e484f6c50",
     "grade": false,
     "grade_id": "cell-db10a919018a5c73",
     "locked": true,
     "schema_version": 3,
     "solution": false
    }
   },
   "source": [
    "## Problem 3 -  Applying the classifier  (4 points)\n",
    "\n",
    "Finally, we can bring together the pieces that we have created in problems 1 and 2. Here, your aim is to take\n",
    "advantage of your new functions and reclassify a dataset of temperatures in Fahrenheit into four different classes.\n",
    "\n",
    "\n",
    "### Part 1: Creating a script file (1 point)\n",
    "\n",
    " - Create a new **script** -file called `temp_functions.py` into your `exercise-4-username` directory as we saw in Lesson 4 materials. Copy and paste the functions that you wrote in Problem 1 and Problem 2, into that script file (i.e. functions `fahr_to_celsius` and `temp_classifier`).\n",
    " - Add a docstring to the script file (in addition to separate docstrings in the functions).\n",
    " - Save the script file (CNTRL + S), and continue working on **this** Notebook (i.e. `Exercise-4-problem-3.ipynb`).\n",
    "\n",
    "### Part 2: Convert Fahrenheit temperatures to Celsius (3 points)\n",
    "\n",
    " 1. Store Fahrenheit temperatures into a list `temp_data` (just execute the existing code cell)."
   ]
  },
  {
   "cell_type": "code",
   "execution_count": null,
   "metadata": {
    "deletable": false,
    "editable": false,
    "nbgrader": {
     "cell_type": "code",
     "checksum": "527c7a80fc38eb978791e1087bb92b3a",
     "grade": false,
     "grade_id": "data",
     "locked": true,
     "schema_version": 3,
     "solution": false
    }
   },
   "outputs": [],
   "source": [
    "# List of half-hourly temperature values (in degrees Fahrenheit) for one week\n",
    "temp_data =  [19, 21, 21, 21, 23, 23, 23, 21, 19, 21, 19, 21, 23, 27, 27, 28, 30, 30, 32, 32, 32, 32, \n",
    "              34, 34, 34, 36, 36, 36, 36, 36, 36, 34, 34, 34, 34, 34, 34, 32, 30, 30, 30, 28, 28, 27,\n",
    "              27, 27, 23, 23, 21, 21, 21, 19, 19, 19, 18, 18, 21, 27, 28, 30, 32, 34, 36, 37, 37, 37, \n",
    "              39, 39, 39, 39, 39, 39, 41, 41, 41, 41, 41, 39, 39, 37, 37, 36, 36, 34, 34, 32, 30, 30,\n",
    "              28, 27, 27, 25, 23, 23, 21, 21, 19, 19, 19, 18, 18, 18, 21, 25, 27, 28, 34, 34, 41, 37, \n",
    "              37, 39, 39, 39, 39, 41, 41, 39, 39, 39, 39, 39, 41, 39, 39, 39, 37, 36, 34, 32, 28, 28,\n",
    "              27, 25, 25, 25, 23, 23, 23, 23, 21, 21, 21, 21, 19, 21, 19, 21, 21, 19, 21, 27, 28, 32,\n",
    "              36, 36, 37, 39, 39, 39, 39, 39, 41, 41, 41, 41, 41, 41, 41, 41, 41, 39, 37, 36, 36, 34,\n",
    "              32, 30, 28, 28, 27, 27, 25, 25, 23, 23, 23, 21, 21, 21, 19, 19, 19, 19, 19, 19, 21, 23,\n",
    "              23, 23, 25, 27, 30, 36, 37, 37, 39, 39, 41, 41, 41, 39, 39, 41, 43, 43, 43, 43, 43, 43,\n",
    "              43, 43, 43, 39, 37, 37, 37, 36, 36, 36, 36, 34, 32, 32, 32, 32, 30, 30, 28, 28, 28, 27,\n",
    "              27, 27, 27, 25, 27, 27, 27, 28, 28, 28, 30, 32, 32, 32, 34, 34, 36, 36, 36, 37, 37, 37,\n",
    "              37, 37, 37, 37, 37, 37, 36, 34, 30, 30, 27, 27, 25, 25, 23, 21, 21, 21, 21, 19, 19, 19,\n",
    "              19, 19, 18, 18, 18, 18, 18, 19, 23, 27, 30, 32, 32, 32, 32, 32, 32, 34, 34, 34, 34, 34,\n",
    "              36, 36, 36, 36, 36, 32, 32, 32, 32, 32, 32, 32, 32, 30, 30, 30, 30, 30, 30, 30, 30, 30,\n",
    "              30, 30, 30, 30, 28, 28]"
   ]
  },
  {
   "cell_type": "markdown",
   "metadata": {
    "deletable": false,
    "editable": false,
    "nbgrader": {
     "cell_type": "markdown",
     "checksum": "c016446284ff9487da50e49eb4a177b7",
     "grade": false,
     "grade_id": "cell-2affd0ad8ec6bc82",
     "locked": true,
     "schema_version": 3,
     "solution": false
    }
   },
   "source": [
    "**Part 2 continues**\n",
    "\n",
    " 2. Import the `fahr_to_celsius` and `temp_classifier` functions from `temp_functions.py` \n",
    " 3. Create an empty list called `temp_classes` (which will be filled with temperature class numbers later)\n",
    " 4. **Convert the Fahrenheit temperatures** in the `temp_data` list into Celsius and **classify the Celsius temperatures** using the importend functions. Output should be stored in the `temp_classes` list:\n",
    " \n",
    " **You can do the temperature conversion and classification inside one for-loop:**\n",
    " \n",
    "     - Iterate over the list of Fahrenheit temperatures (create a `for`-loop), and inside the loop:\n",
    "        1. Create a new variable called `temp_celsius` in which you should assign the temperature in Celsius using the `fahr_to_celsius` function to convert the Fahrenheit temperature into Celsius.\n",
    "        2. Create a new variable called `temp_class` in which you should assign the temperature class number (0, 1, 2, or 3) using the `temp_classifier` function\n",
    "        3. Add the `temp_class` value to the `temp_classes` list"
   ]
  },
  {
   "cell_type": "code",
   "execution_count": null,
   "metadata": {
    "deletable": false,
    "nbgrader": {
     "cell_type": "code",
     "checksum": "112b4ea8f6a1c67cdc4f020b3997e902",
     "grade": false,
     "grade_id": "functions_usage",
     "locked": false,
     "schema_version": 3,
     "solution": true
    }
   },
   "outputs": [],
   "source": [
    "# REPLACE THE ERROR BELOW WITH YOUR OWN CODE\n",
    "raise NotImplementedError()"
   ]
  },
  {
   "cell_type": "markdown",
   "metadata": {
    "deletable": false,
    "editable": false,
    "nbgrader": {
     "cell_type": "markdown",
     "checksum": "7c45cb73802b4747070a0a0f2fb0da1c",
     "grade": false,
     "grade_id": "cell-aac56115e51f1ecd",
     "locked": true,
     "schema_version": 3,
     "solution": false
    }
   },
   "source": [
    "**Part 2 continues**\n",
    "\n",
    "6. Calculate how many temperatures there are in each temperature class:\n",
    "\n",
    "    1. Create four variables called `zeros`, `ones`, `twos`, and `threes` \n",
    "    2. Count and assign to each variable how many times values 0, 1, 2, and 3 are present in the `temp_classes` list and print out the results below. I.e. assign the value of how many `0` values the list has into variable `zeros`, and so on. \n",
    "  \n",
    "**TIP**: You might want to consider using a [**count()** -function](https://www.tutorialspoint.com/python3/list_count.htm) OR a for loop to handle this."
   ]
  },
  {
   "cell_type": "code",
   "execution_count": null,
   "metadata": {},
   "outputs": [],
   "source": [
    "# 1. How many 0 values exist in temp_classes -list?\n",
    "\n",
    "# 2. How many 1 values exist in temp_classes -list?\n",
    "\n",
    "# 3. How many 2 values exist in temp_classes -list?\n",
    "\n",
    "# 4. How many 3 values exist in temp_classes -list?"
   ]
  },
  {
   "cell_type": "markdown",
   "metadata": {
    "deletable": false,
    "editable": false,
    "nbgrader": {
     "cell_type": "markdown",
     "checksum": "ddd25e715a7fbfc0d6b963598591c849",
     "grade": false,
     "grade_id": "cell-79b5c140053f3880",
     "locked": true,
     "schema_version": 3,
     "solution": false,
     "task": false
    }
   },
   "source": [
    "### Problem 3 tests\n",
    "\n",
    "Run the code cells below to check your answer. Note that you are not able to modify the test cells. Your solution is on the right track if you don't see any errors when running these code cells."
   ]
  },
  {
   "cell_type": "code",
   "execution_count": null,
   "metadata": {
    "deletable": false,
    "editable": false,
    "nbgrader": {
     "cell_type": "code",
     "checksum": "ff0a849d2f599314419b9e215eef2f43",
     "grade": true,
     "grade_id": "problem_3_functions_usage_test1",
     "locked": true,
     "points": 0.5,
     "schema_version": 3,
     "solution": false
    }
   },
   "outputs": [],
   "source": [
    "import inspect\n",
    "\n",
    "# Check that functions are in the namespace\n",
    "assert inspect.isfunction(fahr_to_celsius)\n",
    "assert inspect.isfunction(temp_classifier)"
   ]
  },
  {
   "cell_type": "code",
   "execution_count": null,
   "metadata": {
    "deletable": false,
    "editable": false,
    "nbgrader": {
     "cell_type": "code",
     "checksum": "867848cb856d07ad20aefe3c15782d52",
     "grade": true,
     "grade_id": "problem_3_functions_usage_test2",
     "locked": true,
     "points": 0.5,
     "schema_version": 3,
     "solution": false
    }
   },
   "outputs": [],
   "source": [
    "# Check that variable has been created\n",
    "assert 'temp_celsius' in locals()\n",
    "assert 'temp_class' in locals()\n",
    "assert 'temp_classes' in locals()\n",
    "\n",
    "# Check that temp_classes is a list\n",
    "assert type(temp_classes) == list"
   ]
  },
  {
   "cell_type": "code",
   "execution_count": null,
   "metadata": {
    "deletable": false,
    "editable": false,
    "nbgrader": {
     "cell_type": "code",
     "checksum": "f2d0e99475c7a5dcf2a0d8f1c7083528",
     "grade": true,
     "grade_id": "problem_3_functions_usage_test3",
     "locked": true,
     "points": 0.5,
     "schema_version": 3,
     "solution": false
    }
   },
   "outputs": [],
   "source": [
    "# Check that the functions have a single parameter\n",
    "t_params = list(inspect.signature(temp_classifier).parameters.keys())\n",
    "f_params = list(inspect.signature(fahr_to_celsius).parameters.keys())\n",
    "assert len(t_params) == 1\n",
    "assert len(f_params) == 1"
   ]
  },
  {
   "cell_type": "markdown",
   "metadata": {},
   "source": [
    "Check that required variables exists and print their value (check manually that the answers make sense!):"
   ]
  },
  {
   "cell_type": "code",
   "execution_count": null,
   "metadata": {
    "deletable": false,
    "editable": false,
    "nbgrader": {
     "cell_type": "code",
     "checksum": "e2a2b9c4c26e86c4dc42e0a7d2c21c5b",
     "grade": true,
     "grade_id": "problem_3_functions_usage_test4",
     "locked": true,
     "points": 0.5,
     "schema_version": 3,
     "solution": false
    }
   },
   "outputs": [],
   "source": [
    "# Check the variable \"zeros\" \n",
    "assert 'zeros' in locals()\n",
    "print(zeros)"
   ]
  },
  {
   "cell_type": "code",
   "execution_count": null,
   "metadata": {
    "deletable": false,
    "editable": false,
    "nbgrader": {
     "cell_type": "code",
     "checksum": "1dd8f87364b6898a4ba5d727bcb9fa73",
     "grade": true,
     "grade_id": "problem_3_functions_usage_test5",
     "locked": true,
     "points": 0.5,
     "schema_version": 3,
     "solution": false
    }
   },
   "outputs": [],
   "source": [
    "# Check the variable \"ones\" \n",
    "assert 'ones' in locals()\n",
    "print(ones)"
   ]
  },
  {
   "cell_type": "code",
   "execution_count": null,
   "metadata": {
    "deletable": false,
    "editable": false,
    "nbgrader": {
     "cell_type": "code",
     "checksum": "39033c09cab1091c0bdf4e295ede0c6f",
     "grade": true,
     "grade_id": "problem_3_functions_usage_test6",
     "locked": true,
     "points": 0.5,
     "schema_version": 3,
     "solution": false
    }
   },
   "outputs": [],
   "source": [
    "# Checkthe variable \"twos\" \n",
    "assert 'twos' in locals()\n",
    "print(twos)"
   ]
  },
  {
   "cell_type": "code",
   "execution_count": null,
   "metadata": {
    "deletable": false,
    "editable": false,
    "nbgrader": {
     "cell_type": "code",
     "checksum": "31627e01423a53293d19e1b4e743d6c3",
     "grade": true,
     "grade_id": "problem_3_functions_usage_test7",
     "locked": true,
     "points": 0.5,
     "schema_version": 3,
     "solution": false
    }
   },
   "outputs": [],
   "source": [
    "# Check the variable \"threes\" \n",
    "assert 'threes' in locals()\n",
    "print(threes)"
   ]
  },
  {
   "cell_type": "markdown",
   "metadata": {
    "deletable": false,
    "editable": false,
    "nbgrader": {
     "cell_type": "markdown",
     "checksum": "382c1d42895597c8591790888afc7858",
     "grade": false,
     "grade_id": "cell-b4a6387bf95866ff",
     "locked": true,
     "schema_version": 3,
     "solution": false
    }
   },
   "source": [
    " ### Finishing up\n",
    " \n",
    " - Remeber to check that your have commented your code and used the required variable names. \n",
    " - Make sure to commit and push also your `temp_functions.py` -script to your own GitHub repository for Exercise 4!\n",
    " - If you have any comments and concerns at this point, you can write them below:\n",
    "\n",
    "\n"
   ]
  },
  {
   "cell_type": "markdown",
   "metadata": {
    "deletable": false,
    "nbgrader": {
     "cell_type": "markdown",
     "checksum": "16e4be7851c1afd50a8853c55a058199",
     "grade": true,
     "grade_id": "problem_3_manual_grade",
     "locked": false,
     "points": 0.5,
     "schema_version": 3,
     "solution": true,
     "task": false
    }
   },
   "source": [
    "YOUR ANSWER HERE"
   ]
  },
  {
   "cell_type": "markdown",
   "metadata": {
    "deletable": false,
    "editable": false,
    "nbgrader": {
     "cell_type": "markdown",
     "checksum": "0eaef832a45664c8b2555b912464fcc2",
     "grade": false,
     "grade_id": "cell-4f684d1504712a9d",
     "locked": true,
     "schema_version": 3,
     "solution": false,
     "task": false
    }
   },
   "source": [
    "#### All done!\n",
    "\n",
    "That's it! Now you have finished all the problems for Exercise 4! Remember to push all your changes to your personal GitHub Exercise-4 repository (including the `temp_functions.py` -script)."
   ]
  }
 ],
 "metadata": {
  "kernelspec": {
   "display_name": "Python 3",
   "language": "python",
   "name": "python3"
  },
  "language_info": {
   "codemirror_mode": {
    "name": "ipython",
    "version": 3
   },
   "file_extension": ".py",
   "mimetype": "text/x-python",
   "name": "python",
   "nbconvert_exporter": "python",
   "pygments_lexer": "ipython3",
   "version": "3.7.6"
  }
 },
 "nbformat": 4,
 "nbformat_minor": 2
}
